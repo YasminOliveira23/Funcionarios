{
  "cells": [
    {
      "cell_type": "markdown",
      "metadata": {},
      "source": [
        "#### Dataframe de Funcionários\n"
      ]
    },
    {
      "cell_type": "markdown",
      "metadata": {},
      "source": [
        "\n",
        "Empresa - IMIP\n",
        "Lista de funcionários do setor de Engenharia Clínica\n",
        "\n",
        "Esse programa é responsável por filtrar informações sobre os funcionários de uma empresa."
      ]
    },
    {
      "cell_type": "code",
      "execution_count": 1,
      "metadata": {},
      "outputs": [
        {
          "data": {
            "text/html": [
              "<div>\n",
              "<style scoped>\n",
              "    .dataframe tbody tr th:only-of-type {\n",
              "        vertical-align: middle;\n",
              "    }\n",
              "\n",
              "    .dataframe tbody tr th {\n",
              "        vertical-align: top;\n",
              "    }\n",
              "\n",
              "    .dataframe thead th {\n",
              "        text-align: right;\n",
              "    }\n",
              "</style>\n",
              "<table border=\"1\" class=\"dataframe\">\n",
              "  <thead>\n",
              "    <tr style=\"text-align: right;\">\n",
              "      <th></th>\n",
              "      <th>Nome</th>\n",
              "      <th>Cargo</th>\n",
              "      <th>Empresa</th>\n",
              "      <th>Graduação</th>\n",
              "      <th>Ano</th>\n",
              "    </tr>\n",
              "  </thead>\n",
              "  <tbody>\n",
              "    <tr>\n",
              "      <th>1</th>\n",
              "      <td>Yasmin Oliveira</td>\n",
              "      <td>Estagiária de Engenharia</td>\n",
              "      <td>TecSaude</td>\n",
              "      <td>Engenharia Biomédica</td>\n",
              "      <td>2022</td>\n",
              "    </tr>\n",
              "    <tr>\n",
              "      <th>2</th>\n",
              "      <td>Camila Cristina</td>\n",
              "      <td>Estagiária de Engenharia</td>\n",
              "      <td>TecSaude</td>\n",
              "      <td>Engenharia Elétrica</td>\n",
              "      <td>2021</td>\n",
              "    </tr>\n",
              "    <tr>\n",
              "      <th>3</th>\n",
              "      <td>Liliane Martins</td>\n",
              "      <td>Aux de Engenharia</td>\n",
              "      <td>IMIP</td>\n",
              "      <td>Engenharia Eletrônica</td>\n",
              "      <td>2020</td>\n",
              "    </tr>\n",
              "    <tr>\n",
              "      <th>4</th>\n",
              "      <td>Bruna Oliveira</td>\n",
              "      <td>Aux de Engenharia</td>\n",
              "      <td>IMIP</td>\n",
              "      <td>Engenharia Eletrônica</td>\n",
              "      <td>2019</td>\n",
              "    </tr>\n",
              "    <tr>\n",
              "      <th>5</th>\n",
              "      <td>Kellyane Karol</td>\n",
              "      <td>Supervisora de Engenharia</td>\n",
              "      <td>IMIP</td>\n",
              "      <td>Engenharia Elétrica</td>\n",
              "      <td>2018</td>\n",
              "    </tr>\n",
              "    <tr>\n",
              "      <th>6</th>\n",
              "      <td>Melina Carla</td>\n",
              "      <td>Aux Admnistrativo</td>\n",
              "      <td>IMIP</td>\n",
              "      <td>Contabilidade</td>\n",
              "      <td>2018</td>\n",
              "    </tr>\n",
              "    <tr>\n",
              "      <th>7</th>\n",
              "      <td>Leonardo</td>\n",
              "      <td>Técnico de Eletrônica</td>\n",
              "      <td>TecSaude</td>\n",
              "      <td>Técnico em Eletrotécnica</td>\n",
              "      <td>2021</td>\n",
              "    </tr>\n",
              "    <tr>\n",
              "      <th>8</th>\n",
              "      <td>Gabriel Maior</td>\n",
              "      <td>Estagiário Técnico</td>\n",
              "      <td>TecSaude</td>\n",
              "      <td>Técnico em Eletrônica</td>\n",
              "      <td>2022</td>\n",
              "    </tr>\n",
              "  </tbody>\n",
              "</table>\n",
              "</div>"
            ],
            "text/plain": [
              "              Nome                      Cargo   Empresa  \\\n",
              "1  Yasmin Oliveira   Estagiária de Engenharia  TecSaude   \n",
              "2  Camila Cristina   Estagiária de Engenharia  TecSaude   \n",
              "3  Liliane Martins          Aux de Engenharia      IMIP   \n",
              "4   Bruna Oliveira          Aux de Engenharia      IMIP   \n",
              "5   Kellyane Karol  Supervisora de Engenharia      IMIP   \n",
              "6     Melina Carla          Aux Admnistrativo      IMIP   \n",
              "7         Leonardo      Técnico de Eletrônica  TecSaude   \n",
              "8    Gabriel Maior         Estagiário Técnico  TecSaude   \n",
              "\n",
              "                  Graduação   Ano  \n",
              "1      Engenharia Biomédica  2022  \n",
              "2       Engenharia Elétrica  2021  \n",
              "3     Engenharia Eletrônica  2020  \n",
              "4     Engenharia Eletrônica  2019  \n",
              "5       Engenharia Elétrica  2018  \n",
              "6             Contabilidade  2018  \n",
              "7  Técnico em Eletrotécnica  2021  \n",
              "8     Técnico em Eletrônica  2022  "
            ]
          },
          "execution_count": 1,
          "metadata": {},
          "output_type": "execute_result"
        }
      ],
      "source": [
        "import pandas as pd\n",
        "import numpy as np\n",
        "\n",
        "data =np.array([['Yasmin Oliveira', 'Estagiária de Engenharia', 'TecSaude', 'Engenharia Biomédica', 2022],\n",
        "                   ['Camila Cristina', 'Estagiária de Engenharia', 'TecSaude', 'Engenharia Elétrica', 2021],\n",
        "                   ['Liliane Martins', 'Aux de Engenharia', 'IMIP', 'Engenharia Eletrônica', 2020],\n",
        "                   ['Bruna Oliveira', 'Aux de Engenharia', 'IMIP', 'Engenharia Eletrônica', 2019],\n",
        "                   ['Kellyane Karol', 'Supervisora de Engenharia', 'IMIP', 'Engenharia Elétrica', 2018],\n",
        "                   ['Melina Carla', 'Aux Admnistrativo', 'IMIP', 'Contabilidade', 2018],\n",
        "                   ['Leonardo', 'Técnico de Eletrônica', 'TecSaude', 'Técnico em Eletrotécnica', 2021],\n",
        "                   ['Gabriel Maior', 'Estagiário Técnico', 'TecSaude', 'Técnico em Eletrônica', 2022]])\n",
        "\n",
        "data = pd.DataFrame(data, index = range(1, 9), columns=['Nome', 'Cargo', 'Empresa', 'Graduação', 'Ano'])\n",
        "data.head(9)"
      ]
    },
    {
      "cell_type": "code",
      "execution_count": 2,
      "metadata": {},
      "outputs": [
        {
          "data": {
            "text/html": [
              "<div>\n",
              "<style scoped>\n",
              "    .dataframe tbody tr th:only-of-type {\n",
              "        vertical-align: middle;\n",
              "    }\n",
              "\n",
              "    .dataframe tbody tr th {\n",
              "        vertical-align: top;\n",
              "    }\n",
              "\n",
              "    .dataframe thead th {\n",
              "        text-align: right;\n",
              "    }\n",
              "</style>\n",
              "<table border=\"1\" class=\"dataframe\">\n",
              "  <thead>\n",
              "    <tr style=\"text-align: right;\">\n",
              "      <th></th>\n",
              "      <th>Nome</th>\n",
              "      <th>Cargo</th>\n",
              "      <th>Empresa</th>\n",
              "      <th>Graduação</th>\n",
              "      <th>Ano</th>\n",
              "    </tr>\n",
              "  </thead>\n",
              "  <tbody>\n",
              "    <tr>\n",
              "      <th>1</th>\n",
              "      <td>Yasmin Oliveira</td>\n",
              "      <td>Estagiária de Engenharia</td>\n",
              "      <td>TecSaude</td>\n",
              "      <td>Engenharia Biomédica</td>\n",
              "      <td>2022</td>\n",
              "    </tr>\n",
              "    <tr>\n",
              "      <th>8</th>\n",
              "      <td>Gabriel Maior</td>\n",
              "      <td>Estagiário Técnico</td>\n",
              "      <td>TecSaude</td>\n",
              "      <td>Técnico em Eletrônica</td>\n",
              "      <td>2022</td>\n",
              "    </tr>\n",
              "  </tbody>\n",
              "</table>\n",
              "</div>"
            ],
            "text/plain": [
              "              Nome                     Cargo   Empresa              Graduação  \\\n",
              "1  Yasmin Oliveira  Estagiária de Engenharia  TecSaude   Engenharia Biomédica   \n",
              "8    Gabriel Maior        Estagiário Técnico  TecSaude  Técnico em Eletrônica   \n",
              "\n",
              "    Ano  \n",
              "1  2022  \n",
              "8  2022  "
            ]
          },
          "execution_count": 2,
          "metadata": {},
          "output_type": "execute_result"
        }
      ],
      "source": [
        "# Procurando os funcionários a partir do ano de entrada\n",
        "\n",
        "ano = input(\"Entre com o ano de entrada do funcionário: \")\n",
        "data1 = data[(data.Ano == ano)]\n",
        "data1.head()"
      ]
    },
    {
      "cell_type": "code",
      "execution_count": 3,
      "metadata": {},
      "outputs": [
        {
          "data": {
            "text/html": [
              "<div>\n",
              "<style scoped>\n",
              "    .dataframe tbody tr th:only-of-type {\n",
              "        vertical-align: middle;\n",
              "    }\n",
              "\n",
              "    .dataframe tbody tr th {\n",
              "        vertical-align: top;\n",
              "    }\n",
              "\n",
              "    .dataframe thead th {\n",
              "        text-align: right;\n",
              "    }\n",
              "</style>\n",
              "<table border=\"1\" class=\"dataframe\">\n",
              "  <thead>\n",
              "    <tr style=\"text-align: right;\">\n",
              "      <th></th>\n",
              "      <th>Nome</th>\n",
              "      <th>Cargo</th>\n",
              "      <th>Empresa</th>\n",
              "      <th>Graduação</th>\n",
              "      <th>Ano</th>\n",
              "    </tr>\n",
              "  </thead>\n",
              "  <tbody>\n",
              "    <tr>\n",
              "      <th>1</th>\n",
              "      <td>Yasmin Oliveira</td>\n",
              "      <td>Estagiária de Engenharia</td>\n",
              "      <td>TecSaude</td>\n",
              "      <td>Engenharia Biomédica</td>\n",
              "      <td>2022</td>\n",
              "    </tr>\n",
              "  </tbody>\n",
              "</table>\n",
              "</div>"
            ],
            "text/plain": [
              "              Nome                     Cargo   Empresa             Graduação  \\\n",
              "1  Yasmin Oliveira  Estagiária de Engenharia  TecSaude  Engenharia Biomédica   \n",
              "\n",
              "    Ano  \n",
              "1  2022  "
            ]
          },
          "execution_count": 3,
          "metadata": {},
          "output_type": "execute_result"
        }
      ],
      "source": [
        "# Pesquisando pelo nome do funcionário \n",
        "\n",
        "nome = input(\"Nome do funcionário: \")\n",
        "data2 = data[(data.Nome == nome)]\n",
        "data2.head()"
      ]
    },
    {
      "cell_type": "code",
      "execution_count": null,
      "metadata": {},
      "outputs": [],
      "source": [
        "# Pesquisando pelo cargo do funcionário \n",
        "\n",
        "cargo = input(\"Cargo do funcionário: \")\n",
        "data2 = data[(data.Cargo == cargo)]\n",
        "data2.head()"
      ]
    }
  ],
  "metadata": {
    "colab": {
      "name": "IMIP.ipynb",
      "provenance": []
    },
    "kernelspec": {
      "display_name": "Python 3",
      "name": "python3"
    },
    "language_info": {
      "codemirror_mode": {
        "name": "ipython",
        "version": 3
      },
      "file_extension": ".py",
      "mimetype": "text/x-python",
      "name": "python",
      "nbconvert_exporter": "python",
      "pygments_lexer": "ipython3",
      "version": "3.8.8"
    }
  },
  "nbformat": 4,
  "nbformat_minor": 0
}
